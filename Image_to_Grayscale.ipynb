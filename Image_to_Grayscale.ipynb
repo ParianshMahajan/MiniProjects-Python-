{
  "nbformat": 4,
  "nbformat_minor": 0,
  "metadata": {
    "colab": {
      "provenance": [],
      "authorship_tag": "ABX9TyP2COjsPJhTEF3KawhR9lkk",
      "include_colab_link": true
    },
    "kernelspec": {
      "name": "python3",
      "display_name": "Python 3"
    },
    "language_info": {
      "name": "python"
    }
  },
  "cells": [
    {
      "cell_type": "markdown",
      "metadata": {
        "id": "view-in-github",
        "colab_type": "text"
      },
      "source": [
        "<a href=\"https://colab.research.google.com/github/ParianshMahajan/MiniProjects-Python-/blob/main/Image_to_Grayscale.ipynb\" target=\"_parent\"><img src=\"https://colab.research.google.com/assets/colab-badge.svg\" alt=\"Open In Colab\"/></a>"
      ]
    },
    {
      "cell_type": "code",
      "execution_count": null,
      "metadata": {
        "id": "tXWoq-WrsvJM"
      },
      "outputs": [],
      "source": [
        "import cv2\n",
        "import os"
      ]
    },
    {
      "cell_type": "code",
      "source": [
        "# Get the list of all files and directories\n",
        "path = \"/content/Coloured_Images\"\n",
        "dir_list = os.listdir(path)\n",
        "print(dir_list)"
      ],
      "metadata": {
        "colab": {
          "base_uri": "https://localhost:8080/"
        },
        "id": "SoyAyEnvtF6p",
        "outputId": "63945a4c-3139-4450-8f51-3fdb984da955"
      },
      "execution_count": null,
      "outputs": [
        {
          "output_type": "stream",
          "name": "stdout",
          "text": [
            "['colourful.png']\n"
          ]
        }
      ]
    },
    {
      "cell_type": "code",
      "source": [
        "os.mkdir(\"/content/Grayscale_images\")"
      ],
      "metadata": {
        "id": "D7FF2-8s7TKI"
      },
      "execution_count": null,
      "outputs": []
    },
    {
      "cell_type": "code",
      "source": [
        "for i in dir_list:\n",
        "  image = cv2.imread(f'/content/Coloured_Images/{i}')\n",
        "  grayscale = cv2.cvtColor(image, cv2.COLOR_BGR2GRAY)\n",
        "  cv2.imwrite(f\"/content/Grayscale_images/{i[:-4]}_grayscale.png\",grayscale)"
      ],
      "metadata": {
        "id": "s1NPh-Mz0ptP"
      },
      "execution_count": null,
      "outputs": []
    }
  ]
}