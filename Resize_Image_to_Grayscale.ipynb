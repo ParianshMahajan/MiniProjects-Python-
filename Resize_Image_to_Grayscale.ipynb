{
  "nbformat": 4,
  "nbformat_minor": 0,
  "metadata": {
    "colab": {
      "provenance": [],
      "authorship_tag": "ABX9TyMuowFAxNmeB9FrIZ+yaKga",
      "include_colab_link": true
    },
    "kernelspec": {
      "name": "python3",
      "display_name": "Python 3"
    },
    "language_info": {
      "name": "python"
    }
  },
  "cells": [
    {
      "cell_type": "markdown",
      "metadata": {
        "id": "view-in-github",
        "colab_type": "text"
      },
      "source": [
        "<a href=\"https://colab.research.google.com/github/ParianshMahajan/MiniProjects-Python-/blob/main/Resize_Image_to_Grayscale.ipynb\" target=\"_parent\"><img src=\"https://colab.research.google.com/assets/colab-badge.svg\" alt=\"Open In Colab\"/></a>"
      ]
    },
    {
      "cell_type": "code",
      "execution_count": null,
      "metadata": {
        "id": "tXWoq-WrsvJM"
      },
      "outputs": [],
      "source": [
        "import cv2\n",
        "import os"
      ]
    },
    {
      "cell_type": "code",
      "source": [
        "# Get the list of all files and directories\n",
        "path = \"/content/Coloured_Images\"\n",
        "dir_list = os.listdir(path)\n",
        "print(dir_list)"
      ],
      "metadata": {
        "colab": {
          "base_uri": "https://localhost:8080/"
        },
        "id": "SoyAyEnvtF6p",
        "outputId": "d169fb2b-276a-431a-9e25-90670eba38c4"
      },
      "execution_count": null,
      "outputs": [
        {
          "output_type": "stream",
          "name": "stdout",
          "text": [
            "['download.jpeg', '.ipynb_checkpoints']\n"
          ]
        }
      ]
    },
    {
      "cell_type": "code",
      "source": [
        "if os.path.exists(\"/content/Grayscale_images\")==False:\n",
        "  os.mkdir(\"/content/Grayscale_images\")\n",
        "dec_factor=75\n",
        "mf=dec_factor/100"
      ],
      "metadata": {
        "id": "D7FF2-8s7TKI"
      },
      "execution_count": null,
      "outputs": []
    },
    {
      "cell_type": "code",
      "source": [
        "for i in dir_list[:-1]:\n",
        "  image = cv2.imread(f'/content/Coloured_Images/{i}')\n",
        "  grayscale = cv2.cvtColor(image, cv2.COLOR_BGR2GRAY)\n",
        "  width = int(grayscale.shape[1] * mf)\n",
        "  height = int(grayscale.shape[0] * mf)\n",
        "  dim = (width, height)\n",
        "  Resized_Img=cv2.resize(grayscale, dim)\n",
        "\n",
        "  cv2.imwrite(f\"/content/Grayscale_images/{i[:-5]}_grayscale.png\",Resized_Img)"
      ],
      "metadata": {
        "id": "s1NPh-Mz0ptP"
      },
      "execution_count": null,
      "outputs": []
    }
  ]
}