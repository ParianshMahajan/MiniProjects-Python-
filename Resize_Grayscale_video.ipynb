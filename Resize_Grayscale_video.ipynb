{
  "nbformat": 4,
  "nbformat_minor": 0,
  "metadata": {
    "colab": {
      "provenance": [],
      "authorship_tag": "ABX9TyMFI6YApvReYplErcowKKZz",
      "include_colab_link": true
    },
    "kernelspec": {
      "name": "python3",
      "display_name": "Python 3"
    },
    "language_info": {
      "name": "python"
    }
  },
  "cells": [
    {
      "cell_type": "markdown",
      "metadata": {
        "id": "view-in-github",
        "colab_type": "text"
      },
      "source": [
        "<a href=\"https://colab.research.google.com/github/ParianshMahajan/MiniProjects-Python-/blob/main/Resize_Grayscale_video.ipynb\" target=\"_parent\"><img src=\"https://colab.research.google.com/assets/colab-badge.svg\" alt=\"Open In Colab\"/></a>"
      ]
    },
    {
      "cell_type": "code",
      "execution_count": null,
      "metadata": {
        "id": "tXWoq-WrsvJM"
      },
      "outputs": [],
      "source": [
        "import cv2\n",
        "import os"
      ]
    },
    {
      "cell_type": "code",
      "source": [
        "vidObj=cv2.VideoCapture(\"/content/sample_vid.mp4\")\n",
        "success=1\n",
        "fps = vidObj.get(cv2.CAP_PROP_FPS)\n",
        "dec_factor=50\n",
        "mf=dec_factor/100\n",
        "\n",
        "print(fps)\n",
        "\n",
        "frame_width = int((vidObj.get(3))*mf)\n",
        "frame_height = int((vidObj.get(4))*mf)\n",
        "size = (frame_width, frame_height)\n",
        "\n",
        "\n",
        "\n",
        "video =cv2.VideoWriter('/content/grayscale_vid.avi',\n",
        "            cv2.VideoWriter_fourcc(*'MJPG'),\n",
        "            int(fps), size, 0)\n",
        "\n",
        "\n",
        "while success:\n",
        "\n",
        "  success,image=vidObj.read()\n",
        "\n",
        "  if image is not None:\n",
        "    grayscale = cv2.cvtColor(image, cv2.COLOR_BGR2GRAY)\n",
        "\n",
        "    #resizing frames\n",
        "    width = int(grayscale.shape[1] * mf)\n",
        "    height = int(grayscale.shape[0] * mf)\n",
        "    dim = (width, height)\n",
        "    Resized_frame=cv2.resize(grayscale, dim)\n",
        "\n",
        "\n",
        "    video.write(Resized_frame)\n",
        "\n",
        "  # exiting the loop\n",
        "  key = cv2.waitKey(1)\n",
        "  if key == ord(\"q\"):\n",
        "    break\n",
        "\n",
        "# closing the window\n",
        "cv2.destroyAllWindows()\n",
        "vidObj.release()"
      ],
      "metadata": {
        "id": "KnqWs0ZU2ExJ",
        "colab": {
          "base_uri": "https://localhost:8080/"
        },
        "outputId": "669a3f7d-e516-40fd-ffb2-319b65a32a1a"
      },
      "execution_count": null,
      "outputs": [
        {
          "output_type": "stream",
          "name": "stdout",
          "text": [
            "17.402780761793682\n"
          ]
        }
      ]
    }
  ]
}